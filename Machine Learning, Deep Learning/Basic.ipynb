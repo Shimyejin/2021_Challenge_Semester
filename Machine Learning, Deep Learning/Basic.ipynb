{
 "cells": [
  {
   "cell_type": "markdown",
   "metadata": {},
   "source": [
    "# XOR"
   ]
  },
  {
   "cell_type": "code",
   "execution_count": 1,
   "metadata": {},
   "outputs": [],
   "source": [
    "import pandas as pd\n",
    "from sklearn import svm, metrics"
   ]
  },
  {
   "cell_type": "code",
   "execution_count": 2,
   "metadata": {},
   "outputs": [],
   "source": [
    "xor_data = [\n",
    "    [0,0,0],\n",
    "    [0,1,1],\n",
    "    [1,0,1],\n",
    "    [1,1,0]\n",
    "]\n",
    "\n",
    "#주어진 데이터를 분리(학습데이터와 레이블을 분리)\n",
    "training_data = []\n",
    "label = []"
   ]
  },
  {
   "cell_type": "code",
   "execution_count": 3,
   "metadata": {},
   "outputs": [],
   "source": [
    "for row in xor_data:\n",
    "    p = row[0]\n",
    "    q = row[1]\n",
    "    result = row[2]\n",
    "    \n",
    "    training_data.append([p,q]) #Ridge형태로 넣어주기\n",
    "    label.append(result)"
   ]
  },
  {
   "cell_type": "code",
   "execution_count": 4,
   "metadata": {},
   "outputs": [],
   "source": [
    "clf = svm.SVC()"
   ]
  },
  {
   "cell_type": "code",
   "execution_count": 5,
   "metadata": {},
   "outputs": [
    {
     "name": "stdout",
     "output_type": "stream",
     "text": [
      "예측결과: [0 1 1 0]\n"
     ]
    }
   ],
   "source": [
    "clf.fit(training_data, label)\n",
    "\n",
    "pre = clf.predict(training_data)\n",
    "\n",
    "print('예측결과:', pre)"
   ]
  },
  {
   "cell_type": "code",
   "execution_count": 6,
   "metadata": {},
   "outputs": [
    {
     "name": "stdout",
     "output_type": "stream",
     "text": [
      "정확도: 4 / 4 = 1.0\n"
     ]
    }
   ],
   "source": [
    "ok = 0; total = 0\n",
    "\n",
    "for idx, answer in enumerate(label):\n",
    "    P = pre[idx]\n",
    "    if P == answer: ok += 1\n",
    "    total += 1\n",
    "\n",
    "print('정확도:',ok,'/',total,'=',ok/total)"
   ]
  },
  {
   "cell_type": "code",
   "execution_count": 7,
   "metadata": {},
   "outputs": [
    {
     "name": "stdout",
     "output_type": "stream",
     "text": [
      "정확도: 1.0\n"
     ]
    }
   ],
   "source": [
    "xor_df = pd.DataFrame(xor_data)\n",
    "\n",
    "trainingData = xor_df.loc[:,0:1]\n",
    "label = xor_df.loc[:,2]\n",
    "\n",
    "clf = svm.SVC()\n",
    "clf.fit(trainingData,label)\n",
    "\n",
    "pre = clf.predict(trainingData)\n",
    "\n",
    "accuracy = metrics.accuracy_score(label, pre)\n",
    "\n",
    "print('정확도:',accuracy)"
   ]
  },
  {
   "cell_type": "markdown",
   "metadata": {},
   "source": [
    "# Scipy"
   ]
  },
  {
   "cell_type": "code",
   "execution_count": 8,
   "metadata": {},
   "outputs": [],
   "source": [
    "import numpy as np\n",
    "from scipy import sparse"
   ]
  },
  {
   "cell_type": "code",
   "execution_count": 9,
   "metadata": {},
   "outputs": [
    {
     "name": "stdout",
     "output_type": "stream",
     "text": [
      "Numpy 배열:\n",
      "[[1 0 0 0]\n",
      " [0 1 0 0]\n",
      " [0 0 1 0]\n",
      " [0 0 0 1]]\n",
      "Scipy의 CSR행렬: \n",
      "  (0, 0)\t1\n",
      "  (1, 1)\t1\n",
      "  (2, 2)\t1\n",
      "  (3, 3)\t1\n",
      "------------------\n",
      "Scipy의 CSR행렬: \n",
      "  (1, 0)\t1\n",
      "  (2, 1)\t1\n",
      "  (3, 2)\t1\n",
      "  (4, 3)\t1\n"
     ]
    }
   ],
   "source": [
    "h1 = np.eye(4,dtype=int)\n",
    "print('Numpy 배열:\\n{}'.format(h1))\n",
    "sparse_matrix = sparse.csr_matrix(h1)\n",
    "print('Scipy의 CSR행렬: \\n{}'.format(sparse_matrix))\n",
    "print('------------------')\n",
    "h2 = np.eye(5, k=-1, dtype=int)\n",
    "sparse_matrix = sparse.csr_matrix(h2)\n",
    "print('Scipy의 CSR행렬: \\n{}'.format(sparse_matrix))"
   ]
  },
  {
   "cell_type": "code",
   "execution_count": 10,
   "metadata": {},
   "outputs": [
    {
     "name": "stdout",
     "output_type": "stream",
     "text": [
      "[ 0  5 10 15]\n",
      "------------------\n",
      "[[ 0  0  0  0]\n",
      " [ 0  5  0  0]\n",
      " [ 0  0 10  0]\n",
      " [ 0  0  0 15]]\n",
      "------------------\n",
      "Scipy의 CSR행렬: \n",
      "  (1, 1)\t5\n",
      "  (2, 2)\t10\n",
      "  (3, 3)\t15\n"
     ]
    }
   ],
   "source": [
    "h3 = np.arange(16).reshape(4,4)\n",
    "x = np.diag(h3)\n",
    "print(x)\n",
    "y = np.diag(np.diag(h3))\n",
    "print('------------------\\n{}'.format(y))\n",
    "print('------------------')\n",
    "sparse_matrix = sparse.csr_matrix(y)\n",
    "print('Scipy의 CSR행렬: \\n{}'.format(sparse_matrix))"
   ]
  },
  {
   "cell_type": "code",
   "execution_count": 11,
   "metadata": {},
   "outputs": [
    {
     "name": "stdout",
     "output_type": "stream",
     "text": [
      "[1. 1. 1. 1.]\n",
      "COO 표현: \n",
      "  (0, 0)\t1.0\n",
      "  (1, 1)\t1.0\n",
      "  (2, 2)\t1.0\n",
      "  (3, 3)\t1.0\n"
     ]
    }
   ],
   "source": [
    "data = np.ones(4)\n",
    "print(data)\n",
    "\n",
    "row_indices = np.arange(4)\n",
    "col_indices = np.arange(4)\n",
    "\n",
    "eye_coo = sparse.coo_matrix((data,(row_indices,col_indices)))\n",
    "print('COO 표현: \\n{}'.format(eye_coo))"
   ]
  }
 ],
 "metadata": {
  "kernelspec": {
   "display_name": "Python 3",
   "language": "python",
   "name": "python3"
  },
  "language_info": {
   "codemirror_mode": {
    "name": "ipython",
    "version": 3
   },
   "file_extension": ".py",
   "mimetype": "text/x-python",
   "name": "python",
   "nbconvert_exporter": "python",
   "pygments_lexer": "ipython3",
   "version": "3.8.5"
  },
  "toc": {
   "base_numbering": 1,
   "nav_menu": {},
   "number_sections": true,
   "sideBar": true,
   "skip_h1_title": false,
   "title_cell": "Table of Contents",
   "title_sidebar": "Contents",
   "toc_cell": false,
   "toc_position": {},
   "toc_section_display": true,
   "toc_window_display": false
  },
  "varInspector": {
   "cols": {
    "lenName": 16,
    "lenType": 16,
    "lenVar": 40
   },
   "kernels_config": {
    "python": {
     "delete_cmd_postfix": "",
     "delete_cmd_prefix": "del ",
     "library": "var_list.py",
     "varRefreshCmd": "print(var_dic_list())"
    },
    "r": {
     "delete_cmd_postfix": ") ",
     "delete_cmd_prefix": "rm(",
     "library": "var_list.r",
     "varRefreshCmd": "cat(var_dic_list()) "
    }
   },
   "types_to_exclude": [
    "module",
    "function",
    "builtin_function_or_method",
    "instance",
    "_Feature"
   ],
   "window_display": false
  }
 },
 "nbformat": 4,
 "nbformat_minor": 4
}
